{
  "cells": [
    {
      "cell_type": "markdown",
      "metadata": {
        "id": "view-in-github",
        "colab_type": "text"
      },
      "source": [
        "<a href=\"https://colab.research.google.com/github/Verokai/dap-2024/blob/main/les03/lab.ipynb\" target=\"_parent\"><img src=\"https://colab.research.google.com/assets/colab-badge.svg\" alt=\"Open In Colab\"/></a>"
      ]
    },
    {
      "cell_type": "markdown",
      "metadata": {
        "id": "qQvfD-M40xIt"
      },
      "source": [
        "# Лабораторная работа №3. NumPy"
      ]
    },
    {
      "cell_type": "markdown",
      "metadata": {
        "id": "5JrswdfxhWak"
      },
      "source": [
        "## Отчет по заданию"
      ]
    },
    {
      "cell_type": "markdown",
      "metadata": {
        "id": "Q8FFEA2R08uS"
      },
      "source": [
        "Выполнили следующие задания:\n",
        "\n",
        "1. Открыли файл в Google Colab.\n",
        "2. Решили задачи.\n",
        "3. Сохранили результат в свой репозиторий github в директорию ./les03\n",
        "4. Создали pull request в репозиторий https://github.com/chebotarevsa/dap-2024. Название pull request должно иметь формат \"<Номер лабораторной работы>  <Номер группы> <ФИО>\"\n",
        "5. Сдали работу в системе \"Пегас\", в отчете указали ссылку на pull request"
      ]
    },
    {
      "cell_type": "code",
      "execution_count": 1,
      "metadata": {
        "colab": {
          "base_uri": "https://localhost:8080/",
          "height": 35
        },
        "id": "3ftbuMN45IlN",
        "outputId": "4ddf583a-abcb-41cb-f4a2-77f44477c4e2"
      },
      "outputs": [
        {
          "output_type": "execute_result",
          "data": {
            "text/plain": [
              "'2.0.2'"
            ],
            "application/vnd.google.colaboratory.intrinsic+json": {
              "type": "string"
            }
          },
          "metadata": {},
          "execution_count": 1
        }
      ],
      "source": [
        "import numpy as np\n",
        "np.version.version"
      ]
    },
    {
      "cell_type": "markdown",
      "metadata": {
        "id": "6iPL4gTu2ECp"
      },
      "source": [
        "1. Создать массив 10x10 со случайными значениями, найти минимум и максимум (низкая)"
      ]
    },
    {
      "cell_type": "code",
      "execution_count": 5,
      "metadata": {
        "id": "v-AutHvo2T-D",
        "outputId": "c14c6c06-c052-410b-c3b7-9987ef4996c8",
        "colab": {
          "base_uri": "https://localhost:8080/"
        }
      },
      "outputs": [
        {
          "output_type": "stream",
          "name": "stdout",
          "text": [
            "Массив 10x10:\n",
            "[[-305 -137 -533  291 -692  648 -408 -959 -516 -583]\n",
            " [-411 -867  100  708  245  824 -607 -982 -210  964]\n",
            " [  78 -887 -684  213 -353  611 -603  -67 -480 -723]\n",
            " [-578  427 -222  994  245 -417  639 -829 -986  691]\n",
            " [-789  895  112 -112   92  688  101 -847  284 -878]\n",
            " [ 359 -155  159  312  561 -543  596  141  246 -633]\n",
            " [ 303 -409 -958 -930  795  270  408 -619  314  633]\n",
            " [ 168  380  378  598  505 -908  191  678 -541 -545]\n",
            " [ 164 -216 -458  178 -294    6 -392  -80 -193 -454]\n",
            " [ 982  426  140 -490  546 -579  543 -296  503  932]]\n",
            "\n",
            "Минимальное значение: {min_value}\n",
            "Максимальное значение: {max_value}\n"
          ]
        }
      ],
      "source": [
        "import numpy as np\n",
        "# Создаем массив 10x10 со случайными значениями от -1000 до 1000\n",
        "array = np.random.randint(-1000, 1001, size=(10, 10))\n",
        "\n",
        "min_value = np.min(array)\n",
        "max_value = np.max(array)\n",
        "\n",
        "print(\"Массив 10x10:\")\n",
        "print(array)\n",
        "print(\"\\nМинимальное значение: {min_value}\")\n",
        "print(\"Максимальное значение: {max_value}\")"
      ]
    },
    {
      "cell_type": "markdown",
      "metadata": {
        "id": "cwxKoGik2Xfd"
      },
      "source": [
        "2. Создать 8x8 матрицу и заполнить её единицами и нулями в шахматном порядке"
      ]
    },
    {
      "cell_type": "code",
      "execution_count": 9,
      "metadata": {
        "id": "zACAjKWC2lBy",
        "outputId": "9e0bf98f-f4ad-4931-808d-599db2ece002",
        "colab": {
          "base_uri": "https://localhost:8080/"
        }
      },
      "outputs": [
        {
          "output_type": "stream",
          "name": "stdout",
          "text": [
            "Шахматная доска 8x8:\n",
            "[[0 1 0 1 0 1 0 1]\n",
            " [1 0 1 0 1 0 1 0]\n",
            " [0 1 0 1 0 1 0 1]\n",
            " [1 0 1 0 1 0 1 0]\n",
            " [0 1 0 1 0 1 0 1]\n",
            " [1 0 1 0 1 0 1 0]\n",
            " [0 1 0 1 0 1 0 1]\n",
            " [1 0 1 0 1 0 1 0]]\n",
            "Второй вариант решения задачи\n",
            "Шахматная доска 8x8:\n",
            "[0, 1, 0, 1, 0, 1, 0, 1]\n",
            "[1, 0, 1, 0, 1, 0, 1, 0]\n",
            "[0, 1, 0, 1, 0, 1, 0, 1]\n",
            "[1, 0, 1, 0, 1, 0, 1, 0]\n",
            "[0, 1, 0, 1, 0, 1, 0, 1]\n",
            "[1, 0, 1, 0, 1, 0, 1, 0]\n",
            "[0, 1, 0, 1, 0, 1, 0, 1]\n",
            "[1, 0, 1, 0, 1, 0, 1, 0]\n"
          ]
        }
      ],
      "source": [
        "import numpy as np\n",
        "# Создаем матрицу 8x8, заполняем 0\n",
        "chessboard = np.zeros((8, 8), dtype=int)\n",
        "\n",
        "# Заполняем черные клетки единицами (шахматный порядок)\n",
        "chessboard[1::2, ::2] = 1  # Нечетные строки, четные столбцы\n",
        "chessboard[::2, 1::2] = 1  # Четные строки, нечетные столбцы\n",
        "\n",
        "# Выводим матрицу\n",
        "print(\"Шахматная доска 8x8:\")\n",
        "print(chessboard)\n",
        "\n",
        "print(\"Второй вариант решения задачи\")\n",
        "# Создаем матрицу 8x8 в шахматном порядке без NumPy\n",
        "chessboard = []\n",
        "for i in range(8):\n",
        "    row = []\n",
        "    for j in range(8):\n",
        "        # Клетка черная, если сумма индексов четная\n",
        "        if (i + j) % 2 == 0:\n",
        "            row.append(0)\n",
        "        else:\n",
        "            row.append(1)\n",
        "    chessboard.append(row)\n",
        "\n",
        "# Выводим матрицу\n",
        "print(\"Шахматная доска 8x8:\")\n",
        "for row in chessboard:\n",
        "    print(row)"
      ]
    },
    {
      "cell_type": "markdown",
      "metadata": {
        "id": "YvNFm7Io2tSA"
      },
      "source": [
        "3. Дан массив из 11 элементов, поменять знак у элементов, значения которых между 3 и 8"
      ]
    },
    {
      "cell_type": "code",
      "execution_count": 16,
      "metadata": {
        "id": "cczoe3OY27fA",
        "outputId": "a7cbebac-7657-4042-f767-dc0d7eea82c8",
        "colab": {
          "base_uri": "https://localhost:8080/"
        }
      },
      "outputs": [
        {
          "output_type": "stream",
          "name": "stdout",
          "text": [
            "[ 0  1  2  3 -4 -5 -6 -7  8  9 10]\n",
            "[ 0  1  2  3 -4 -5 -6 -7  8  9 10]\n"
          ]
        }
      ],
      "source": [
        "z = np.arange(11)\n",
        "for i in range(len(z)):\n",
        "  if 3< z[i]< 8:\n",
        "    z[i]*=-1\n",
        "print(z)\n",
        "\n",
        "#Второй вариант решения\n",
        "import numpy as np\n",
        "z = np.arange(11)\n",
        "# Меняем знак у элементов, значения которых между 3 и 8 (исключая границы)\n",
        "z[(z > 3) & (z < 8)] *= -1\n",
        "print(z)"
      ]
    },
    {
      "cell_type": "markdown",
      "metadata": {
        "id": "tInYHRPf2-jQ"
      },
      "source": [
        "4. Найти среднее заначение строки матрицы и вычесть его из каждого елемента строки"
      ]
    },
    {
      "cell_type": "code",
      "execution_count": 32,
      "metadata": {
        "id": "Zbv_WG9w3km1",
        "outputId": "e60143e0-3daf-42cb-8682-c4f546759c39",
        "colab": {
          "base_uri": "https://localhost:8080/"
        }
      },
      "outputs": [
        {
          "output_type": "stream",
          "name": "stdout",
          "text": [
            "Исходная матрица:\n",
            "[[0.3042948  0.99673763 0.47832717 0.20321136 0.69498092 0.62923479\n",
            "  0.10479959 0.81881004 0.38340714 0.26749636]\n",
            " [0.16101941 0.96367234 0.41345    0.31385207 0.05583126 0.47873902\n",
            "  0.57874695 0.1972034  0.59895247 0.77112918]\n",
            " [0.58299992 0.55711737 0.18710764 0.834882   0.25264732 0.51502931\n",
            "  0.06890056 0.06839851 0.07092315 0.81251144]\n",
            " [0.30092081 0.91038177 0.25496655 0.36958748 0.89963855 0.68945757\n",
            "  0.4851865  0.81221226 0.82053651 0.35778928]\n",
            " [0.34503696 0.05315008 0.94035919 0.02988963 0.3618048  0.81162094\n",
            "  0.65666056 0.676662   0.3576394  0.28563068]]\n",
            "\n",
            "Матрица после центрирования:\n",
            "[[-0.18383518  0.50860765 -0.00980281 -0.28491862  0.20685094  0.14110481\n",
            "  -0.38333039  0.33068006 -0.10472284 -0.22063362]\n",
            " [-0.2922402   0.51041273 -0.03980961 -0.13940754 -0.39742835  0.02547941\n",
            "   0.12548734 -0.25605621  0.14569286  0.31786957]\n",
            " [ 0.1879482   0.16206564 -0.20794408  0.43983028 -0.1424044   0.11997759\n",
            "  -0.32615116 -0.32665322 -0.32412857  0.41745972]\n",
            " [-0.28914692  0.32031404 -0.33510118 -0.22048025  0.30957082  0.09938984\n",
            "  -0.10488123  0.22214453  0.23046878 -0.23227845]\n",
            " [-0.10680846 -0.39869534  0.48851377 -0.4219558  -0.09004062  0.35977552\n",
            "   0.20481514  0.22481658 -0.09420603 -0.16621475]]\n"
          ]
        }
      ],
      "source": [
        "import numpy as np\n",
        "z = np.random.rand(5, 10)\n",
        "z_centered = z - z.mean(axis=1, keepdims=True)\n",
        "\n",
        "print(\"Исходная матрица:\")\n",
        "print(z)\n",
        "print(\"\\nМатрица после центрирования:\")\n",
        "print(z_centered)"
      ]
    },
    {
      "cell_type": "markdown",
      "metadata": {
        "id": "OStor4mW3lpJ"
      },
      "source": [
        "5. Поменяйте 1 и 2 строки матрицы"
      ]
    },
    {
      "cell_type": "code",
      "execution_count": 35,
      "metadata": {
        "id": "5vfeHqyF3qKd",
        "outputId": "5c6ffcf3-0774-4aef-d4ee-a1f39f89d849",
        "colab": {
          "base_uri": "https://localhost:8080/"
        }
      },
      "outputs": [
        {
          "output_type": "stream",
          "name": "stdout",
          "text": [
            "Исходная матрица:\n",
            "[[ 0  1  2  3  4]\n",
            " [ 5  6  7  8  9]\n",
            " [10 11 12 13 14]\n",
            " [15 16 17 18 19]\n",
            " [20 21 22 23 24]]\n",
            "Матрица с переставленными строками:\n",
            "[[ 5  6  7  8  9]\n",
            " [ 0  1  2  3  4]\n",
            " [10 11 12 13 14]\n",
            " [15 16 17 18 19]\n",
            " [20 21 22 23 24]]\n"
          ]
        }
      ],
      "source": [
        "import numpy as np\n",
        "z = np.arange(25).reshape(5,5)\n",
        "# Создаем копию матрицы с переставленными строками\n",
        "z_swapped = z.copy()\n",
        "z_swapped[0] = z[1]\n",
        "z_swapped[1] = z[0]\n",
        "print(\"Исходная матрица:\")\n",
        "print(z)\n",
        "print(\"Матрица с переставленными строками:\")\n",
        "print(z_swapped)"
      ]
    },
    {
      "cell_type": "markdown",
      "metadata": {
        "id": "IPQ9xIIk3qml"
      },
      "source": [
        "6. Дан массив 10x2 подеставлющий собой точки в декартовой системе координат, преобразовать в полярную"
      ]
    },
    {
      "cell_type": "code",
      "execution_count": 36,
      "metadata": {
        "id": "zGHBaX8b30Uv",
        "outputId": "622edc57-d5ba-4ee9-ce6a-f3c17e11cb1c",
        "colab": {
          "base_uri": "https://localhost:8080/"
        }
      },
      "outputs": [
        {
          "output_type": "stream",
          "name": "stdout",
          "text": [
            "Декартовы координаты:\n",
            "[[0.47406259 0.47819209]\n",
            " [0.89555007 0.12472481]\n",
            " [0.86092854 0.34036299]\n",
            " [0.89376495 0.10304334]\n",
            " [0.54704882 0.83917854]\n",
            " [0.8185587  0.22886814]\n",
            " [0.98830626 0.52605984]\n",
            " [0.47357305 0.31621503]\n",
            " [0.91774458 0.04922505]\n",
            " [0.76850969 0.24929564]]\n",
            "\n",
            "Полярные координаты (радиус, угол в радианах):\n",
            "[[0.67335208 0.78973468]\n",
            " [0.90419368 0.1383816 ]\n",
            " [0.92576721 0.37648621]\n",
            " [0.89968534 0.11478453]\n",
            " [1.00174    0.99309634]\n",
            " [0.84995233 0.27263676]\n",
            " [1.11959288 0.4891402 ]\n",
            " [0.56944129 0.5887327 ]\n",
            " [0.91906378 0.05358563]\n",
            " [0.80793283 0.31367865]]\n"
          ]
        }
      ],
      "source": [
        "import numpy as np\n",
        "\n",
        "z = np.random.random((10, 2))\n",
        "\n",
        "# Преобразуем декартовы координаты в полярные\n",
        "x = z[:, 0]  # координаты x\n",
        "y = z[:, 1]  # координаты y\n",
        "\n",
        "# Вычисляем радиус (r) и угол (phi)\n",
        "r = np.sqrt(x**2 + y**2)  # расстояние от начала координат\n",
        "phi = np.arctan2(y, x)    # угол в радианах\n",
        "\n",
        "# Собираем результат в массив той же формы (10, 2)\n",
        "polar_coords = np.column_stack((r, phi))\n",
        "\n",
        "print(\"Декартовы координаты:\")\n",
        "print(z)\n",
        "print(\"\\nПолярные координаты (радиус, угол в радианах):\")\n",
        "print(polar_coords)"
      ]
    },
    {
      "cell_type": "markdown",
      "metadata": {
        "id": "10gbuTgE4AOH"
      },
      "source": [
        "7. Заменить максимальный элемент массива на ноль"
      ]
    },
    {
      "cell_type": "code",
      "execution_count": 38,
      "metadata": {
        "id": "gqwuO2T_5Aqd",
        "outputId": "f06b2cd7-9301-4526-c7f8-b211a904b6aa",
        "colab": {
          "base_uri": "https://localhost:8080/"
        }
      },
      "outputs": [
        {
          "output_type": "stream",
          "name": "stdout",
          "text": [
            "Исходный массив:\n",
            "[0.37591456 0.35091871 0.14133802 0.60651258 0.81408591 0.74883811\n",
            " 0.47565794 0.42085914 0.73681208 0.57536981]\n",
            "Массив после замены максимального элемента на 0:\n",
            "[0.37591456 0.35091871 0.14133802 0.60651258 0.         0.74883811\n",
            " 0.47565794 0.42085914 0.73681208 0.57536981]\n"
          ]
        }
      ],
      "source": [
        "import numpy as np\n",
        "\n",
        "z = np.random.random(10)\n",
        "print(\"Исходный массив:\")\n",
        "print(z)\n",
        "# Находим индекс максимального элемента\n",
        "max_index = np.argmax(z)\n",
        "\n",
        "# Заменяем максимальный элемент на 0\n",
        "z[max_index] = 0\n",
        "\n",
        "print(\"Массив после замены максимального элемента на 0:\")\n",
        "print(z)"
      ]
    },
    {
      "cell_type": "markdown",
      "metadata": {
        "id": "88m_eWXM6nZY"
      },
      "source": [
        "8. Дан массив, добавить 1 к каждому элементу с индексом, заданным в другом массиве. Добавление производиться только 1 раз"
      ]
    },
    {
      "cell_type": "code",
      "execution_count": 39,
      "metadata": {
        "id": "-5yj9k126pfh",
        "outputId": "94fc63c0-0ce7-437d-9672-811856a9b849",
        "colab": {
          "base_uri": "https://localhost:8080/"
        }
      },
      "outputs": [
        {
          "output_type": "stream",
          "name": "stdout",
          "text": [
            "Массив индексов i: [6 6 5 5 6 8 8 6 6 2 7 0 3 4 0 2 5 7 5 0]\n",
            "Уникальные индексы: [0 2 3 4 5 6 7 8]\n",
            "Результат:\n",
            "[2. 1. 2. 2. 2. 2. 2. 2. 2. 1.]\n"
          ]
        }
      ],
      "source": [
        "import numpy as np\n",
        "\n",
        "z = np.ones(10)\n",
        "i = np.random.randint(0, len(z), 20)\n",
        "\n",
        "# Находим уникальные индексы, чтобы добавить 1 только один раз для каждого индекса\n",
        "unique_indices = np.unique(i)\n",
        "\n",
        "# Добавляем 1 к элементам с уникальными индексами\n",
        "z[unique_indices] += 1\n",
        "\n",
        "print(\"Массив индексов i:\", i)\n",
        "print(\"Уникальные индексы:\", unique_indices)\n",
        "print(\"Результат:\")\n",
        "print(z)"
      ]
    },
    {
      "cell_type": "markdown",
      "metadata": {
        "id": "0HByAVK77JCG"
      },
      "source": [
        "9. Дан вектор [1, 2, 3, 4, 5], построить новый вектор с тремя нулями между каждым значением"
      ]
    },
    {
      "cell_type": "code",
      "execution_count": 40,
      "metadata": {
        "id": "2AiZt-J47dqq",
        "outputId": "7ad62e99-d0be-4c43-ad38-c9f7426ad864",
        "colab": {
          "base_uri": "https://localhost:8080/"
        }
      },
      "outputs": [
        {
          "output_type": "stream",
          "name": "stdout",
          "text": [
            "[1 0 0 0 2 0 0 0 3 0 0 0 4 0 0 0 5]\n"
          ]
        }
      ],
      "source": [
        "import numpy as np\n",
        "z = np.array([1, 2, 3, 4, 5])\n",
        "\n",
        "# Создаем новый массив с нулями между элементами\n",
        "# Длина нового массива: исходная длина + (количество промежутков * 3)\n",
        "new_length = len(z) + (len(z) - 1) * 3\n",
        "result = np.zeros(new_length, dtype=z.dtype)\n",
        "\n",
        "# Заполняем позиции исходными значениями\n",
        "# Исходные элементы размещаются на позициях: 0, 4, 8, 12, 16\n",
        "result[::4] = z\n",
        "\n",
        "print(result)"
      ]
    },
    {
      "cell_type": "markdown",
      "metadata": {
        "id": "i0uK-dO08AKP"
      },
      "source": [
        "10. Найти ближайшее к заданному значению число в заданном массиве"
      ]
    },
    {
      "cell_type": "code",
      "execution_count": 42,
      "metadata": {
        "id": "sE0DlZO_-4Cb",
        "outputId": "dac00474-6a2f-49b2-d25b-93a9333d7b3b",
        "colab": {
          "base_uri": "https://localhost:8080/"
        }
      },
      "outputs": [
        {
          "output_type": "stream",
          "name": "stdout",
          "text": [
            "Случайное число v: 38.4436289557071\n",
            "Ближайшее число в массиве z: 38\n"
          ]
        }
      ],
      "source": [
        "import numpy as np\n",
        "\n",
        "z = np.arange(100)  # Массив чисел от 0 до 99\n",
        "v = np.random.uniform(0, 100)  # Случайное число от 0 до 100\n",
        "\n",
        "# Находим индекс элемента, наиболее близкого к v\n",
        "idx = (np.abs(z - v)).argmin()\n",
        "nearest_value = z[idx]\n",
        "\n",
        "print(f\"Случайное число v: {v}\")\n",
        "print(f\"Ближайшее число в массиве z: {nearest_value}\")"
      ]
    },
    {
      "cell_type": "markdown",
      "metadata": {
        "id": "0zUpsgh8uCfQ"
      },
      "source": [
        "## Вопросы\n",
        "\n",
        "\n"
      ]
    },
    {
      "cell_type": "markdown",
      "metadata": {
        "id": "RQEMkoq5vc3k"
      },
      "source": [
        "**1**. Какой тип (dtype) будут иметь элементы массива?\n",
        "``` python\n",
        "np.array([1, 4, 2, 5, 3])\n",
        "np.array([1., 4, 2, 5, 3])\n",
        "np.array([1, 4, 2, 5, 3], dtype='float128')\n",
        "np.array([1., 4, 2, 5, 3], dtype='complex128')\n",
        "np.array([1, 4, 2, 5, 3], dtype ='float64')\n",
        "np.array([1, 4, 2, 5, 3], dtype =int64)\n",
        "np.array([1, 4, 2, 5, 3], dtype='bool')\n",
        "np.array([1, 4, 2, 5, 3], dtype='str')\n",
        "np.array([1, 4, 2, 5, '3'])\n",
        "np.array([1, -4, 2, 0, 1j])\n",
        "```"
      ]
    },
    {
      "cell_type": "markdown",
      "metadata": {
        "id": "SlJfe4Bgvd16"
      },
      "source": [
        "**2**. Что будет выведено в консоль и почему?\n",
        "``` python\n",
        "np.array([1, 4, 2, 5, 3], dtype='str')[1] + '1'\n",
        "np.array([1, -4, 2, 0, 3], dtype='bool')[3] or np.array([1, -4, 2, 0, 3])[1]\n",
        "np.array([1, -4, 2, 0, 3], dtype='bool')[3] and np.array([1, -4, 2, 0, 3])[1]\n",
        "np.array([1, -4, 2, 0, True], dtype='int64')[-1]\n",
        "np.array([1, -4, 2, 0, 1j], dtype='int64')[1]\n",
        "np.array([1, -4, 2, 0, 1j], dtype='str')[-1]\n",
        "np.array([1, 4, 2, 5, '3'])[-1] * 3\n",
        "```"
      ]
    },
    {
      "cell_type": "markdown",
      "metadata": {
        "id": "X50PESx7xVAc"
      },
      "source": [
        "**3**. Каков результат операции?\n",
        "\n",
        "``` python\n",
        "np.ones((3, 5), dtype=float)\n",
        "np.full((3, 5), 3.14)\n",
        "np.linspace(0, 1, 5)\n",
        "np.diag((1,3,5))\n",
        "np.smile((1,3,5))\n",
        "np.random.random((3, 3))\n",
        "np.eye(3)\n",
        "np.empty(3)\n",
        "```\n",
        "\n"
      ]
    },
    {
      "cell_type": "markdown",
      "metadata": {
        "id": "D6Bt-8cfAWrA"
      },
      "source": [
        "**4**. Дан двумерный массив X, что будет выведено в консоль?\n",
        "\n",
        "``` python\n",
        "X = np.array([[3, 5, 2, 4],\n",
        "      [7, 6, 8, 8],\n",
        "      [1, 6, 7, 7]])\n",
        "```\n",
        "\n",
        "``` python\n",
        "X[0,0]\n",
        "X[-1,-1]\n",
        "X[0:1,-1]\n",
        "X[0:2,-1]\n",
        "X[0:2,0:2]\n",
        "X[1,1:3]\n",
        "X[1,:]\n",
        "X[1,:]\n",
        "X[:,:]\n",
        "X[:]\n",
        "X[::2,::2]\n",
        "X[0:3:2,0:3:2]\n",
        "X[::-1,::-1]\n",
        "```"
      ]
    },
    {
      "cell_type": "markdown",
      "metadata": {
        "id": "_BjrO963hWau"
      },
      "source": [
        "**5**. Дан двумерный массив grid, в чем различее между операциями?\n",
        "\n",
        "\n",
        "``` python\n",
        "grid = np.arange(16).reshape((4, 4))\n",
        "```\n",
        "\n",
        "``` python\n",
        "np.split(grid, [2])\n",
        "np.split(grid, [2], axis=1)\n",
        "```\n"
      ]
    },
    {
      "cell_type": "markdown",
      "metadata": {
        "id": "PULaBF0jhWav"
      },
      "source": [
        "**6**. В чем различие между операциями?\n",
        "\n",
        "``` python\n",
        "    [1, 2, 3] + [3, 2, 1]\n",
        "    np.array([1, 2, 3]) + np.array([3, 2, 1])\n",
        "```"
      ]
    },
    {
      "cell_type": "markdown",
      "metadata": {
        "id": "rPwumcUzhWav"
      },
      "source": [
        "**7**. Как в CodeLab измерить время выполнения кода?"
      ]
    },
    {
      "cell_type": "markdown",
      "metadata": {
        "id": "7XbDB0kzhWav"
      },
      "source": [
        "**8**. Дан массив X, каковы результаты операций?\n",
        "\n",
        "```python\n",
        "X = np.array([[3, 5, 2, 4],\n",
        "      [7, 6, 8, 8],\n",
        "      [1, 6, 7, 7]])\n",
        "\n",
        "np.sum(M)\n",
        "np.sum(M, axis=1)\n",
        "np.sum(M, axis=0)\n",
        "np.sum(M, axis=2)\n",
        "np.sum(M, 1)\n",
        "sum(M)\n",
        "sum(M,1)\n",
        "```"
      ]
    },
    {
      "cell_type": "markdown",
      "metadata": {
        "id": "1LUuQLhuhWav"
      },
      "source": [
        "**9**. Дан массив X, что будет выведено в консоль?\n",
        "\n",
        "```python\n",
        "X = np.array([1,2,3,4])\n",
        "\n",
        "X > 3\n",
        "X < 3\n",
        "X[X < 3]\n",
        "X[X > 3]\n",
        "X[X != 3]\n",
        "```"
      ]
    },
    {
      "cell_type": "markdown",
      "metadata": {
        "id": "DuBXfAPThWav"
      },
      "source": [
        "**10**.  В чем преимущество массивов NumPy по сравнению с обычными списками.  Чем обусловлено это преимущество?"
      ]
    }
  ],
  "metadata": {
    "colab": {
      "provenance": [],
      "include_colab_link": true
    },
    "kernelspec": {
      "display_name": "Python 3",
      "name": "python3"
    },
    "language_info": {
      "codemirror_mode": {
        "name": "ipython",
        "version": 3
      },
      "file_extension": ".py",
      "mimetype": "text/x-python",
      "name": "python",
      "nbconvert_exporter": "python",
      "pygments_lexer": "ipython3",
      "version": "3.12.2"
    }
  },
  "nbformat": 4,
  "nbformat_minor": 0
}