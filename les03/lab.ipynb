{
  "cells": [
    {
      "cell_type": "markdown",
      "metadata": {
        "id": "view-in-github",
        "colab_type": "text"
      },
      "source": [
        "<a href=\"https://colab.research.google.com/github/Verokai/dap-2024/blob/main/les03/lab.ipynb\" target=\"_parent\"><img src=\"https://colab.research.google.com/assets/colab-badge.svg\" alt=\"Open In Colab\"/></a>"
      ]
    },
    {
      "cell_type": "markdown",
      "metadata": {
        "id": "qQvfD-M40xIt"
      },
      "source": [
        "# Лабораторная работа №3. NumPy"
      ]
    },
    {
      "cell_type": "markdown",
      "metadata": {
        "id": "5JrswdfxhWak"
      },
      "source": [
        "## Отчет по заданию"
      ]
    },
    {
      "cell_type": "markdown",
      "metadata": {
        "id": "Q8FFEA2R08uS"
      },
      "source": [
        "Выполнили следующие задания:\n",
        "\n",
        "1. Открыли файл в Google Colab.\n",
        "2. Решили задачи.\n",
        "3. Сохранили результат в свой репозиторий github в директорию ./les03\n",
        "4. Создали pull request в репозиторий https://github.com/chebotarevsa/dap-2024. Название pull request должно иметь формат \"<Номер лабораторной работы>  <Номер группы> <ФИО>\"\n",
        "5. Сдали работу в системе \"Пегас\", в отчете указали ссылку на pull request"
      ]
    },
    {
      "cell_type": "code",
      "execution_count": null,
      "metadata": {
        "colab": {
          "base_uri": "https://localhost:8080/",
          "height": 35
        },
        "id": "3ftbuMN45IlN",
        "outputId": "4ddf583a-abcb-41cb-f4a2-77f44477c4e2"
      },
      "outputs": [
        {
          "output_type": "execute_result",
          "data": {
            "text/plain": [
              "'2.0.2'"
            ],
            "application/vnd.google.colaboratory.intrinsic+json": {
              "type": "string"
            }
          },
          "metadata": {},
          "execution_count": 1
        }
      ],
      "source": [
        "import numpy as np\n",
        "np.version.version"
      ]
    },
    {
      "cell_type": "markdown",
      "metadata": {
        "id": "6iPL4gTu2ECp"
      },
      "source": [
        "1. Создать массив 10x10 со случайными значениями, найти минимум и максимум (низкая)"
      ]
    },
    {
      "cell_type": "code",
      "execution_count": 3,
      "metadata": {
        "id": "v-AutHvo2T-D",
        "outputId": "4734fc53-b1e5-4429-812f-418493b25589",
        "colab": {
          "base_uri": "https://localhost:8080/"
        }
      },
      "outputs": [
        {
          "output_type": "stream",
          "name": "stdout",
          "text": [
            "Массив 10x10:\n",
            "[[ 708 -211 -418 -501  218  582  584  833 -745  814]\n",
            " [ 837  788  414  782 -566  792 -128  384  457  468]\n",
            " [ 383 -610  119  547  710  659   76 -153 -459 -124]\n",
            " [-852 -257  838  341 -181 -405  825  -45 -601  577]\n",
            " [-232 -657 -267  938  690 -930 -997 -400 -326 -531]\n",
            " [ 973  -18  -20 -412 -328  185  -43  685 -937  913]\n",
            " [ 634  409 -744 -570  122  951 -122  625  568  890]\n",
            " [-237  -13  127  659  795  408  858 -972  537   97]\n",
            " [-146  751 -849  299 -351  157  858 -258 -815 -549]\n",
            " [ 811   26  959  -61  231  537 -346 -912 -653 -302]]\n",
            "\n",
            "Минимальное значение:-997\n",
            "Максимальное значение:973\n"
          ]
        }
      ],
      "source": [
        "import numpy as np\n",
        "# Создаем массив 10x10 со случайными значениями от -1000 до 1000\n",
        "array = np.random.randint(-1000, 1001, size=(10, 10))\n",
        "\n",
        "min_value = np.min(array)\n",
        "max_value = np.max(array)\n",
        "\n",
        "print(\"Массив 10x10:\")\n",
        "print(array)\n",
        "print(\"\\nМинимальное значение:\" + str(min_value))\n",
        "print(\"Максимальное значение:\" + str(max_value))"
      ]
    },
    {
      "cell_type": "markdown",
      "metadata": {
        "id": "cwxKoGik2Xfd"
      },
      "source": [
        "2. Создать 8x8 матрицу и заполнить её единицами и нулями в шахматном порядке"
      ]
    },
    {
      "cell_type": "code",
      "execution_count": 6,
      "metadata": {
        "id": "zACAjKWC2lBy",
        "outputId": "c4be2680-271d-4199-d846-cafce546348a",
        "colab": {
          "base_uri": "https://localhost:8080/"
        }
      },
      "outputs": [
        {
          "output_type": "stream",
          "name": "stdout",
          "text": [
            "Шахматная доска 8x8:\n",
            "[0 1 0 1 0 1 0 1]\n",
            "[1 0 1 0 1 0 1 0]\n",
            "[0 1 0 1 0 1 0 1]\n",
            "[1 0 1 0 1 0 1 0]\n",
            "[0 1 0 1 0 1 0 1]\n",
            "[1 0 1 0 1 0 1 0]\n",
            "[0 1 0 1 0 1 0 1]\n",
            "[1 0 1 0 1 0 1 0]\n"
          ]
        }
      ],
      "source": [
        "import numpy as np\n",
        "# Создаем матрицу 8x8 и заполняем нулями\n",
        "chessboard = np.zeros((8, 8), dtype=int)\n",
        "for i in range(8):\n",
        "    for j in range(8):\n",
        "        # Клетка черная, если сумма индексов четная\n",
        "        if (i + j) % 2 != 0:\n",
        "            chessboard[i,j]=1\n",
        "# Выводим матрицу\n",
        "print(\"Шахматная доска 8x8:\")\n",
        "for row in chessboard:\n",
        "    print(row)"
      ]
    },
    {
      "cell_type": "markdown",
      "metadata": {
        "id": "YvNFm7Io2tSA"
      },
      "source": [
        "3. Дан массив из 11 элементов, поменять знак у элементов, значения которых между 3 и 8"
      ]
    },
    {
      "cell_type": "code",
      "execution_count": 8,
      "metadata": {
        "id": "cczoe3OY27fA",
        "outputId": "92007ba1-0ab6-4765-e57a-f1cec858b644",
        "colab": {
          "base_uri": "https://localhost:8080/"
        }
      },
      "outputs": [
        {
          "output_type": "stream",
          "name": "stdout",
          "text": [
            "[ 0  1  2  3 -4 -5 -6 -7  8  9 10]\n",
            "[ 0  1  2  3 -4 -5 -6 -7  8  9 10]\n"
          ]
        }
      ],
      "source": [
        "z = np.arange(11)\n",
        "for i in range(len(z)):\n",
        "  if 3< z[i]< 8:\n",
        "    z[i]*=-1\n",
        "print(z)\n",
        "\n",
        "#Второй вариант решения\n",
        "import numpy as np\n",
        "z = np.arange(11)\n",
        "# Меняем знак у элементов, значения которых между 3 и 8 (исключая границы)\n",
        "z[(z > 3) & (z < 8)] *= -1\n",
        "print(z)"
      ]
    },
    {
      "cell_type": "markdown",
      "metadata": {
        "id": "tInYHRPf2-jQ"
      },
      "source": [
        "4. Найти среднее заначение строки матрицы и вычесть его из каждого елемента строки"
      ]
    },
    {
      "cell_type": "code",
      "execution_count": 10,
      "metadata": {
        "id": "Zbv_WG9w3km1",
        "outputId": "a11d8f77-9d43-4d93-a298-80416b6f3f9e",
        "colab": {
          "base_uri": "https://localhost:8080/"
        }
      },
      "outputs": [
        {
          "output_type": "stream",
          "name": "stdout",
          "text": [
            "Исходная матрица:\n",
            "[[0.44727029 0.0407528  0.397178   0.6708428  0.78507502 0.02404005\n",
            "  0.82298708 0.91491756 0.06738716 0.67204509]\n",
            " [0.67056607 0.9724342  0.27286726 0.90160416 0.7570411  0.58323393\n",
            "  0.30676553 0.75288934 0.0833521  0.82395836]\n",
            " [0.76766961 0.5259107  0.94156852 0.26045274 0.70488394 0.62001376\n",
            "  0.34653088 0.51503091 0.86915832 0.31964042]\n",
            " [0.88042884 0.73527615 0.6749849  0.53490499 0.94556836 0.39388158\n",
            "  0.75770999 0.42661392 0.05457774 0.62641496]\n",
            " [0.82809289 0.87625043 0.21861549 0.73726443 0.28432515 0.48804966\n",
            "  0.21397835 0.28878652 0.70882365 0.08335819]]\n",
            "\n",
            "Итоговая матрица:\n",
            "[[-0.0369793  -0.44349678 -0.08707158  0.18659322  0.30082543 -0.46020954\n",
            "   0.33873749  0.43066798 -0.41686242  0.1877955 ]\n",
            " [ 0.05809487  0.35996299 -0.33960394  0.28913295  0.1445699  -0.02923728\n",
            "  -0.30570568  0.14041814 -0.5291191   0.21148716]\n",
            " [ 0.18058363 -0.06117528  0.35448254 -0.32663324  0.11779796  0.03292778\n",
            "  -0.2405551  -0.07205507  0.28207234 -0.26744556]\n",
            " [ 0.2773927   0.13224001  0.07194875 -0.06813115  0.34253222 -0.20915457\n",
            "   0.15467385 -0.17642222 -0.54845841  0.02337881]\n",
            " [ 0.35533841  0.40349595 -0.25413898  0.26450995 -0.18842933  0.01529518\n",
            "  -0.25877613 -0.18396795  0.23606918 -0.38939629]]\n"
          ]
        }
      ],
      "source": [
        "import numpy as np\n",
        "z = np.random.rand(5, 10)\n",
        "z_centered = z - z.mean(axis=1, keepdims=True)\n",
        "\n",
        "print(\"Исходная матрица:\")\n",
        "print(z)\n",
        "print(\"\\nИтоговая матрица:\")\n",
        "print(z_centered)"
      ]
    },
    {
      "cell_type": "markdown",
      "metadata": {
        "id": "OStor4mW3lpJ"
      },
      "source": [
        "5. Поменяйте 1 и 2 строки матрицы"
      ]
    },
    {
      "cell_type": "code",
      "execution_count": 12,
      "metadata": {
        "id": "5vfeHqyF3qKd",
        "outputId": "750b0fa8-51ce-4cd6-c3a7-a44bfd7a2d9e",
        "colab": {
          "base_uri": "https://localhost:8080/"
        }
      },
      "outputs": [
        {
          "output_type": "stream",
          "name": "stdout",
          "text": [
            "Исходная матрица:\n",
            "[[ 0  1  2  3  4]\n",
            " [ 5  6  7  8  9]\n",
            " [10 11 12 13 14]\n",
            " [15 16 17 18 19]\n",
            " [20 21 22 23 24]]\n",
            "Матрица с переставленными строками:\n",
            "[[ 5  6  7  8  9]\n",
            " [ 0  1  2  3  4]\n",
            " [10 11 12 13 14]\n",
            " [15 16 17 18 19]\n",
            " [20 21 22 23 24]]\n"
          ]
        }
      ],
      "source": [
        "import numpy as np\n",
        "z = np.arange(25).reshape(5,5)\n",
        "# Создаем копию матрицы с переставленными строками\n",
        "z_swapped = z.copy()\n",
        "z_swapped[0] = z[1]\n",
        "z_swapped[1] = z[0]\n",
        "print(\"Исходная матрица:\")\n",
        "print(z)\n",
        "print(\"Матрица с переставленными строками:\")\n",
        "print(z_swapped)"
      ]
    },
    {
      "cell_type": "markdown",
      "metadata": {
        "id": "IPQ9xIIk3qml"
      },
      "source": [
        "6. Дан массив 10x2 подеставлющий собой точки в декартовой системе координат, преобразовать в полярную"
      ]
    },
    {
      "cell_type": "code",
      "execution_count": 13,
      "metadata": {
        "id": "zGHBaX8b30Uv",
        "outputId": "ba3246b6-4d61-4fc2-de94-c39b926329fc",
        "colab": {
          "base_uri": "https://localhost:8080/"
        }
      },
      "outputs": [
        {
          "output_type": "stream",
          "name": "stdout",
          "text": [
            "Декартовы координаты:\n",
            "[[0.32086536 0.53623208]\n",
            " [0.97260979 0.04153484]\n",
            " [0.18907892 0.00549187]\n",
            " [0.66178561 0.27130482]\n",
            " [0.04769632 0.94178565]\n",
            " [0.31285878 0.17987624]\n",
            " [0.67411664 0.13687225]\n",
            " [0.44958624 0.73315231]\n",
            " [0.90685661 0.09251847]\n",
            " [0.73996807 0.48363729]]\n",
            "\n",
            "Полярные координаты (радиус, угол в радианах):\n",
            "[[0.62489953 1.03157599]\n",
            " [0.97349624 0.04267859]\n",
            " [0.18915866 0.0290372 ]\n",
            " [0.71523877 0.38906195]\n",
            " [0.94299266 1.520195  ]\n",
            " [0.36088236 0.5217921 ]\n",
            " [0.68787154 0.20031637]\n",
            " [0.86002331 1.02071035]\n",
            " [0.91156381 0.10166929]\n",
            " [0.884001   0.57889628]]\n"
          ]
        }
      ],
      "source": [
        "import numpy as np\n",
        "\n",
        "z = np.random.random((10, 2))\n",
        "\n",
        "# Преобразуем декартовы координаты в полярные\n",
        "x = z[:, 0]  # координаты x\n",
        "y = z[:, 1]  # координаты y\n",
        "\n",
        "# Вычисляем радиус (r) и угол (phi)\n",
        "r = np.sqrt(x**2 + y**2)  # расстояние от начала координат\n",
        "phi = np.arctan2(y, x)    # угол в радианах\n",
        "\n",
        "# Собираем результат в массив той же формы (10, 2)\n",
        "polar_coords = np.column_stack((r, phi))\n",
        "\n",
        "print(\"Декартовы координаты:\")\n",
        "print(z)\n",
        "print(\"\\nПолярные координаты (радиус, угол в радианах):\")\n",
        "print(polar_coords)"
      ]
    },
    {
      "cell_type": "markdown",
      "metadata": {
        "id": "10gbuTgE4AOH"
      },
      "source": [
        "7. Заменить максимальный элемент массива на ноль"
      ]
    },
    {
      "cell_type": "code",
      "execution_count": 14,
      "metadata": {
        "id": "gqwuO2T_5Aqd",
        "outputId": "1d497168-399a-4d3b-ddb5-4bd5841e35c2",
        "colab": {
          "base_uri": "https://localhost:8080/"
        }
      },
      "outputs": [
        {
          "output_type": "stream",
          "name": "stdout",
          "text": [
            "Исходный массив:\n",
            "[0.38279857 0.46547787 0.82003531 0.62866722 0.88052485 0.61943791\n",
            " 0.39524795 0.87304315 0.34329566 0.98943076]\n",
            "Массив после замены максимального элемента на 0:\n",
            "[0.38279857 0.46547787 0.82003531 0.62866722 0.88052485 0.61943791\n",
            " 0.39524795 0.87304315 0.34329566 0.        ]\n"
          ]
        }
      ],
      "source": [
        "import numpy as np\n",
        "\n",
        "z = np.random.random(10)\n",
        "print(\"Исходный массив:\")\n",
        "print(z)\n",
        "# Находим индекс максимального элемента\n",
        "max_index = np.argmax(z)\n",
        "\n",
        "# Заменяем максимальный элемент на 0\n",
        "z[max_index] = 0\n",
        "\n",
        "print(\"Массив после замены максимального элемента на 0:\")\n",
        "print(z)"
      ]
    },
    {
      "cell_type": "markdown",
      "metadata": {
        "id": "88m_eWXM6nZY"
      },
      "source": [
        "8. Дан массив, добавить 1 к каждому элементу с индексом, заданным в другом массиве. Добавление производиться только 1 раз"
      ]
    },
    {
      "cell_type": "code",
      "execution_count": 20,
      "metadata": {
        "id": "-5yj9k126pfh",
        "outputId": "2bf62825-71f1-49f8-a8f1-b74c99e43671",
        "colab": {
          "base_uri": "https://localhost:8080/"
        }
      },
      "outputs": [
        {
          "output_type": "stream",
          "name": "stdout",
          "text": [
            "Первый массив: [1. 1. 1. 1. 1. 1. 1. 1. 1. 1.]\n",
            "Массив индексов i: [5 3 4 1 0 5 4 1 7 5 0 1 4 8 2 0 1 0 8 5]\n",
            "Массив без повторений: [0 1 2 3 4 5 7 8]\n",
            "Результат:\n",
            "[2. 2. 2. 2. 2. 2. 1. 2. 2. 1.]\n"
          ]
        }
      ],
      "source": [
        "import numpy as np\n",
        "\n",
        "z = np.ones(10)\n",
        "print(\"Первый массив:\", z)\n",
        "i = np.random.randint(0, len(z), 20)#Заполнить значениями от 0 до 10, размер массива 20\n",
        "\n",
        "#Избавляемся от повторений\n",
        "unique_indices = np.unique(i)\n",
        "\n",
        "# Добавляем 1 к элементам с уникальными индексами\n",
        "z[unique_indices] += 1\n",
        "\n",
        "print(\"Массив индексов i:\", i)\n",
        "print(\"Массив без повторений:\", unique_indices)\n",
        "print(\"Результат:\")\n",
        "print(z)"
      ]
    },
    {
      "cell_type": "markdown",
      "metadata": {
        "id": "0HByAVK77JCG"
      },
      "source": [
        "9. Дан вектор [1, 2, 3, 4, 5], построить новый вектор с тремя нулями между каждым значением"
      ]
    },
    {
      "cell_type": "code",
      "execution_count": null,
      "metadata": {
        "id": "2AiZt-J47dqq",
        "outputId": "7ad62e99-d0be-4c43-ad38-c9f7426ad864",
        "colab": {
          "base_uri": "https://localhost:8080/"
        }
      },
      "outputs": [
        {
          "output_type": "stream",
          "name": "stdout",
          "text": [
            "[1 0 0 0 2 0 0 0 3 0 0 0 4 0 0 0 5]\n"
          ]
        }
      ],
      "source": [
        "import numpy as np\n",
        "z = np.array([1, 2, 3, 4, 5])\n",
        "\n",
        "# Создаем новый массив с нулями между элементами\n",
        "# Длина нового массива: исходная длина + (количество промежутков * 3)\n",
        "new_length = len(z) + (len(z) - 1) * 3\n",
        "result = np.zeros(new_length, dtype=z.dtype)\n",
        "\n",
        "# Заполняем позиции исходными значениями\n",
        "# Исходные элементы размещаются на позициях: 0, 4, 8, 12, 16\n",
        "result[::4] = z\n",
        "\n",
        "print(result)"
      ]
    },
    {
      "cell_type": "markdown",
      "metadata": {
        "id": "i0uK-dO08AKP"
      },
      "source": [
        "10. Найти ближайшее к заданному значению число в заданном массиве"
      ]
    },
    {
      "cell_type": "code",
      "execution_count": 24,
      "metadata": {
        "id": "sE0DlZO_-4Cb",
        "outputId": "5b45dbc9-bf7a-49fb-9924-52febcb3e852",
        "colab": {
          "base_uri": "https://localhost:8080/"
        }
      },
      "outputs": [
        {
          "output_type": "stream",
          "name": "stdout",
          "text": [
            "Случайное число v: 84.8771961418341\n",
            "Ближайшее число в массиве z: 85\n"
          ]
        }
      ],
      "source": [
        "import numpy as np\n",
        "\n",
        "z = np.arange(100)  # Массив чисел от 0 до 99\n",
        "v = np.random.uniform(0, 100)  # Случайное число от 0 до 100\n",
        "\n",
        "# Находим индекс элемента, наиболее близкого к v\n",
        "idx = (np.abs(z - v)).argmin()\n",
        "nearest_value = z[idx]\n",
        "\n",
        "print(f\"Случайное число v: {v}\")\n",
        "print(f\"Ближайшее число в массиве z: {nearest_value}\")"
      ]
    },
    {
      "cell_type": "markdown",
      "metadata": {
        "id": "0zUpsgh8uCfQ"
      },
      "source": [
        "## Вопросы\n",
        "\n",
        "\n"
      ]
    },
    {
      "cell_type": "markdown",
      "metadata": {
        "id": "RQEMkoq5vc3k"
      },
      "source": [
        "**1**. Какой тип (dtype) будут иметь элементы массива?\n",
        "``` python\n",
        "np.array([1, 4, 2, 5, 3])\n",
        "np.array([1., 4, 2, 5, 3])\n",
        "np.array([1, 4, 2, 5, 3], dtype='float128')\n",
        "np.array([1., 4, 2, 5, 3], dtype='complex128')\n",
        "np.array([1, 4, 2, 5, 3], dtype ='float64')\n",
        "np.array([1, 4, 2, 5, 3], dtype =int64)\n",
        "np.array([1, 4, 2, 5, 3], dtype='bool')\n",
        "np.array([1, 4, 2, 5, 3], dtype='str')\n",
        "np.array([1, 4, 2, 5, '3'])\n",
        "np.array([1, -4, 2, 0, 1j])\n",
        "```"
      ]
    },
    {
      "cell_type": "markdown",
      "metadata": {
        "id": "SlJfe4Bgvd16"
      },
      "source": [
        "**2**. Что будет выведено в консоль и почему?\n",
        "``` python\n",
        "np.array([1, 4, 2, 5, 3], dtype='str')[1] + '1'\n",
        "np.array([1, -4, 2, 0, 3], dtype='bool')[3] or np.array([1, -4, 2, 0, 3])[1]\n",
        "np.array([1, -4, 2, 0, 3], dtype='bool')[3] and np.array([1, -4, 2, 0, 3])[1]\n",
        "np.array([1, -4, 2, 0, True], dtype='int64')[-1]\n",
        "np.array([1, -4, 2, 0, 1j], dtype='int64')[1]\n",
        "np.array([1, -4, 2, 0, 1j], dtype='str')[-1]\n",
        "np.array([1, 4, 2, 5, '3'])[-1] * 3\n",
        "```"
      ]
    },
    {
      "cell_type": "markdown",
      "metadata": {
        "id": "X50PESx7xVAc"
      },
      "source": [
        "**3**. Каков результат операции?\n",
        "\n",
        "``` python\n",
        "np.ones((3, 5), dtype=float)\n",
        "np.full((3, 5), 3.14)\n",
        "np.linspace(0, 1, 5)\n",
        "np.diag((1,3,5))\n",
        "np.smile((1,3,5))\n",
        "np.random.random((3, 3))\n",
        "np.eye(3)\n",
        "np.empty(3)\n",
        "```\n",
        "\n"
      ]
    },
    {
      "cell_type": "markdown",
      "metadata": {
        "id": "D6Bt-8cfAWrA"
      },
      "source": [
        "**4**. Дан двумерный массив X, что будет выведено в консоль?\n",
        "\n",
        "``` python\n",
        "X = np.array([[3, 5, 2, 4],\n",
        "      [7, 6, 8, 8],\n",
        "      [1, 6, 7, 7]])\n",
        "```\n",
        "\n",
        "``` python\n",
        "X[0,0]\n",
        "X[-1,-1]\n",
        "X[0:1,-1]\n",
        "X[0:2,-1]\n",
        "X[0:2,0:2]\n",
        "X[1,1:3]\n",
        "X[1,:]\n",
        "X[1,:]\n",
        "X[:,:]\n",
        "X[:]\n",
        "X[::2,::2]\n",
        "X[0:3:2,0:3:2]\n",
        "X[::-1,::-1]\n",
        "```"
      ]
    },
    {
      "cell_type": "markdown",
      "metadata": {
        "id": "_BjrO963hWau"
      },
      "source": [
        "**5**. Дан двумерный массив grid, в чем различее между операциями?\n",
        "\n",
        "\n",
        "``` python\n",
        "grid = np.arange(16).reshape((4, 4))\n",
        "```\n",
        "\n",
        "``` python\n",
        "np.split(grid, [2])\n",
        "np.split(grid, [2], axis=1)\n",
        "```\n"
      ]
    },
    {
      "cell_type": "markdown",
      "metadata": {
        "id": "PULaBF0jhWav"
      },
      "source": [
        "**6**. В чем различие между операциями?\n",
        "\n",
        "``` python\n",
        "    [1, 2, 3] + [3, 2, 1]\n",
        "    np.array([1, 2, 3]) + np.array([3, 2, 1])\n",
        "```"
      ]
    },
    {
      "cell_type": "markdown",
      "metadata": {
        "id": "rPwumcUzhWav"
      },
      "source": [
        "**7**. Как в CodeLab измерить время выполнения кода?"
      ]
    },
    {
      "cell_type": "markdown",
      "metadata": {
        "id": "7XbDB0kzhWav"
      },
      "source": [
        "**8**. Дан массив X, каковы результаты операций?\n",
        "\n",
        "```python\n",
        "X = np.array([[3, 5, 2, 4],\n",
        "      [7, 6, 8, 8],\n",
        "      [1, 6, 7, 7]])\n",
        "\n",
        "np.sum(M)\n",
        "np.sum(M, axis=1)\n",
        "np.sum(M, axis=0)\n",
        "np.sum(M, axis=2)\n",
        "np.sum(M, 1)\n",
        "sum(M)\n",
        "sum(M,1)\n",
        "```"
      ]
    },
    {
      "cell_type": "markdown",
      "metadata": {
        "id": "1LUuQLhuhWav"
      },
      "source": [
        "**9**. Дан массив X, что будет выведено в консоль?\n",
        "\n",
        "```python\n",
        "X = np.array([1,2,3,4])\n",
        "\n",
        "X > 3\n",
        "X < 3\n",
        "X[X < 3]\n",
        "X[X > 3]\n",
        "X[X != 3]\n",
        "```"
      ]
    },
    {
      "cell_type": "markdown",
      "metadata": {
        "id": "DuBXfAPThWav"
      },
      "source": [
        "**10**.  В чем преимущество массивов NumPy по сравнению с обычными списками.  Чем обусловлено это преимущество?"
      ]
    }
  ],
  "metadata": {
    "colab": {
      "provenance": [],
      "include_colab_link": true
    },
    "kernelspec": {
      "display_name": "Python 3",
      "name": "python3"
    },
    "language_info": {
      "codemirror_mode": {
        "name": "ipython",
        "version": 3
      },
      "file_extension": ".py",
      "mimetype": "text/x-python",
      "name": "python",
      "nbconvert_exporter": "python",
      "pygments_lexer": "ipython3",
      "version": "3.12.2"
    }
  },
  "nbformat": 4,
  "nbformat_minor": 0
}