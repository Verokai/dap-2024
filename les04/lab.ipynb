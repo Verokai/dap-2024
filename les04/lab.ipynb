{
  "cells": [
    {
      "cell_type": "markdown",
      "metadata": {
        "id": "NG0XcXvmgobS"
      },
      "source": [
        "# Лабораторная работа №4.\n",
        "# Анализ данных пассажиров \"Титаника\"\n",
        "\n",
        "Гибель Титаника – одно из самых печально известных кораблекрушений в истории.\n",
        "\n",
        "15 апреля 1912 года во время своего первого плавания считавшийся «непотопляемым» «Титаник» затонул после столкновения с айсбергом.\n",
        "К сожалению, спасательных шлюпок для всех находившихся на борту не хватило, в результате чего погибли 1502 из 2224 пассажиров и членов экипажа.\n",
        "\n",
        "Используя набор данных titanic.csv выполните следующие 10 заданий."
      ]
    },
    {
      "cell_type": "code",
      "execution_count": null,
      "metadata": {
        "id": "foPF6z2RgobT"
      },
      "outputs": [],
      "source": [
        "import numpy as np\n",
        "import pandas as pd\n"
      ]
    },
    {
      "cell_type": "markdown",
      "metadata": {
        "id": "cbpZRMK0gobT"
      },
      "source": [
        "1. Создайте DataFarame из файла titanic.csv, в качестве индекса используйте столбец \"PassengerId\""
      ]
    },
    {
      "cell_type": "code",
      "execution_count": 3,
      "metadata": {
        "id": "Jese23FqgobU",
        "outputId": "86bf87b1-1aff-4107-faa5-2ae7c953f14e",
        "colab": {
          "base_uri": "https://localhost:8080/"
        }
      },
      "outputs": [
        {
          "output_type": "stream",
          "name": "stdout",
          "text": [
            "             Survived  Pclass  \\\n",
            "PassengerId                     \n",
            "1                   0       3   \n",
            "2                   1       1   \n",
            "3                   1       3   \n",
            "4                   1       1   \n",
            "5                   0       3   \n",
            "...               ...     ...   \n",
            "887                 0       2   \n",
            "888                 1       1   \n",
            "889                 0       3   \n",
            "890                 1       1   \n",
            "891                 0       3   \n",
            "\n",
            "                                                          Name     Sex   Age  \\\n",
            "PassengerId                                                                    \n",
            "1                                      Braund, Mr. Owen Harris    male  22.0   \n",
            "2            Cumings, Mrs. John Bradley (Florence Briggs Th...  female  38.0   \n",
            "3                                       Heikkinen, Miss. Laina  female  26.0   \n",
            "4                 Futrelle, Mrs. Jacques Heath (Lily May Peel)  female  35.0   \n",
            "5                                     Allen, Mr. William Henry    male  35.0   \n",
            "...                                                        ...     ...   ...   \n",
            "887                                      Montvila, Rev. Juozas    male  27.0   \n",
            "888                               Graham, Miss. Margaret Edith  female  19.0   \n",
            "889                   Johnston, Miss. Catherine Helen \"Carrie\"  female   NaN   \n",
            "890                                      Behr, Mr. Karl Howell    male  26.0   \n",
            "891                                        Dooley, Mr. Patrick    male  32.0   \n",
            "\n",
            "             SibSp  Parch            Ticket     Fare Cabin Embarked  \n",
            "PassengerId                                                          \n",
            "1                1      0         A/5 21171   7.2500   NaN        S  \n",
            "2                1      0          PC 17599  71.2833   C85        C  \n",
            "3                0      0  STON/O2. 3101282   7.9250   NaN        S  \n",
            "4                1      0            113803  53.1000  C123        S  \n",
            "5                0      0            373450   8.0500   NaN        S  \n",
            "...            ...    ...               ...      ...   ...      ...  \n",
            "887              0      0            211536  13.0000   NaN        S  \n",
            "888              0      0            112053  30.0000   B42        S  \n",
            "889              1      2        W./C. 6607  23.4500   NaN        S  \n",
            "890              0      0            111369  30.0000  C148        C  \n",
            "891              0      0            370376   7.7500   NaN        Q  \n",
            "\n",
            "[891 rows x 11 columns]\n"
          ]
        }
      ],
      "source": [
        "import numpy as np\n",
        "import pandas as pd\n",
        "passengers = pd.read_csv(\"titanic.csv\", index_col=\"PassengerId\")\n",
        "print(passengers)"
      ]
    },
    {
      "cell_type": "markdown",
      "metadata": {
        "id": "BAbRXIB0gobU"
      },
      "source": [
        "2. Просмотрите первые 6 строк"
      ]
    },
    {
      "cell_type": "code",
      "execution_count": 4,
      "metadata": {
        "colab": {
          "base_uri": "https://localhost:8080/"
        },
        "id": "Ux6mDMzOgobU",
        "outputId": "c8bc5f2a-02fe-4c30-c860-b8c463e730d2"
      },
      "outputs": [
        {
          "output_type": "stream",
          "name": "stdout",
          "text": [
            "             Survived  Pclass  \\\n",
            "PassengerId                     \n",
            "1                   0       3   \n",
            "2                   1       1   \n",
            "3                   1       3   \n",
            "4                   1       1   \n",
            "5                   0       3   \n",
            "6                   0       3   \n",
            "\n",
            "                                                          Name     Sex   Age  \\\n",
            "PassengerId                                                                    \n",
            "1                                      Braund, Mr. Owen Harris    male  22.0   \n",
            "2            Cumings, Mrs. John Bradley (Florence Briggs Th...  female  38.0   \n",
            "3                                       Heikkinen, Miss. Laina  female  26.0   \n",
            "4                 Futrelle, Mrs. Jacques Heath (Lily May Peel)  female  35.0   \n",
            "5                                     Allen, Mr. William Henry    male  35.0   \n",
            "6                                             Moran, Mr. James    male   NaN   \n",
            "\n",
            "             SibSp  Parch            Ticket     Fare Cabin Embarked  \n",
            "PassengerId                                                          \n",
            "1                1      0         A/5 21171   7.2500   NaN        S  \n",
            "2                1      0          PC 17599  71.2833   C85        C  \n",
            "3                0      0  STON/O2. 3101282   7.9250   NaN        S  \n",
            "4                1      0            113803  53.1000  C123        S  \n",
            "5                0      0            373450   8.0500   NaN        S  \n",
            "6                0      0            330877   8.4583   NaN        Q  \n"
          ]
        }
      ],
      "source": [
        "import numpy as np\n",
        "import pandas as pd\n",
        "passengers = pd.read_csv(\"titanic.csv\", index_col=\"PassengerId\")\n",
        "print(passengers.iloc[0:6])"
      ]
    },
    {
      "cell_type": "markdown",
      "metadata": {
        "id": "Byr8nXoxgobU"
      },
      "source": [
        "3. Выведите описание данных"
      ]
    },
    {
      "cell_type": "code",
      "execution_count": null,
      "metadata": {
        "id": "VaEkI325gobU"
      },
      "outputs": [],
      "source": [
        "# Ваш код здесь"
      ]
    },
    {
      "cell_type": "markdown",
      "metadata": {
        "id": "i5o-B1VDgobU"
      },
      "source": [
        "4. Сколько мужчин / женщин находилось на борту?"
      ]
    },
    {
      "cell_type": "code",
      "execution_count": 5,
      "metadata": {
        "id": "MWxrkDY0gobU",
        "outputId": "da5a5544-8c62-4772-b2f6-c5e0863221e8",
        "colab": {
          "base_uri": "https://localhost:8080/"
        }
      },
      "outputs": [
        {
          "output_type": "stream",
          "name": "stdout",
          "text": [
            "Sex\n",
            "male      577\n",
            "female    314\n",
            "Name: count, dtype: int64\n"
          ]
        }
      ],
      "source": [
        "import numpy as np\n",
        "import pandas as pd\n",
        "passengers = pd.read_csv(\"titanic.csv\", index_col=\"PassengerId\")\n",
        "print(passengers.loc[:,\"Sex\"].value_counts())"
      ]
    },
    {
      "cell_type": "markdown",
      "metadata": {
        "id": "9bvKQb3HgobV"
      },
      "source": [
        "4. Выведите распределение переменной Pclass (социально-экономический статус) и это же распределение, только для мужчин / женщин по отдельности. Сколько было мужчин 2-го класса"
      ]
    },
    {
      "cell_type": "code",
      "execution_count": 6,
      "metadata": {
        "id": "faKFXeAtgobV",
        "outputId": "24c68eae-027b-402c-8f4c-7ca812994836",
        "colab": {
          "base_uri": "https://localhost:8080/"
        }
      },
      "outputs": [
        {
          "output_type": "stream",
          "name": "stdout",
          "text": [
            "Распределение переменной Pclass\n",
            "Pclass\n",
            "3    491\n",
            "1    216\n",
            "2    184\n",
            "Name: count, dtype: int64\n",
            "Распределение переменной Pclass только для мужчин\n",
            "Sex   Pclass\n",
            "male  3         347\n",
            "      1         122\n",
            "      2         108\n",
            "Name: count, dtype: int64\n",
            "Распределение переменной Pclass только для женщин\n",
            "Sex     Pclass\n",
            "female  3         144\n",
            "        1          94\n",
            "        2          76\n",
            "Name: count, dtype: int64\n",
            "Мужчины 2го класса\n",
            "Sex   Pclass\n",
            "male  2         108\n",
            "Name: count, dtype: int64\n"
          ]
        }
      ],
      "source": [
        "import numpy as np\n",
        "import pandas as pd\n",
        "passengers = pd.read_csv(\"titanic.csv\", index_col=\"PassengerId\")\n",
        "print(\"Распределение переменной Pclass\")\n",
        "print(passengers.loc[:,\"Pclass\"].value_counts())\n",
        "print(\"Распределение переменной Pclass только для мужчин\")\n",
        "print(passengers[passengers['Sex'] == 'male'].loc[:, [\"Sex\", \"Pclass\"]].value_counts())\n",
        "print(\"Распределение переменной Pclass только для женщин\")\n",
        "print(passengers[passengers['Sex'] == 'female'].loc[:, [\"Sex\", \"Pclass\"]].value_counts())\n",
        "print(\"Мужчины 2го класса\")\n",
        "print(passengers[(passengers['Sex'] == 'male') & (passengers['Pclass'] == 2)][['Sex', 'Pclass']].value_counts())"
      ]
    },
    {
      "cell_type": "markdown",
      "metadata": {
        "id": "CKw3Zu6igobV"
      },
      "source": [
        "5. Каковы медиана и среднеквадрати́чное отклонение платежей (Fare)? Округлите до 2 десятичных знаков."
      ]
    },
    {
      "cell_type": "code",
      "execution_count": 7,
      "metadata": {
        "id": "FpZy-FE8gobV",
        "outputId": "0868a3ef-e93d-4fc4-edef-911b7a00b3ff",
        "colab": {
          "base_uri": "https://localhost:8080/"
        }
      },
      "outputs": [
        {
          "output_type": "stream",
          "name": "stdout",
          "text": [
            "Медиана: 14.45\n",
            "Среднеквадратичное отклонение: 49.69\n"
          ]
        }
      ],
      "source": [
        "median_fare = round(passengers['Fare'].median(), 2)\n",
        "\n",
        "# Вычисляем среднеквадратичное отклонение и округляем до 2 знаков\n",
        "std_fare = round(passengers['Fare'].std(), 2)\n",
        "\n",
        "print(f\"Медиана: {median_fare}\")\n",
        "print(f\"Среднеквадратичное отклонение: {std_fare}\")"
      ]
    },
    {
      "cell_type": "markdown",
      "metadata": {
        "id": "fkCA0GF4gobV"
      },
      "source": [
        "6. Правда ли, что люди моложе 30 лет выживали чаще, чем люди старше 60 лет? Каковы доли выживших в обеих группах?"
      ]
    },
    {
      "cell_type": "code",
      "execution_count": 8,
      "metadata": {
        "id": "1AOvMEHNgobV",
        "outputId": "aaedf79f-1ea2-4d12-f4a3-2159c3358991",
        "colab": {
          "base_uri": "https://localhost:8080/"
        }
      },
      "outputs": [
        {
          "output_type": "stream",
          "name": "stdout",
          "text": [
            "Доля выживших среди людей младше 30 лет: 40.625%\n",
            "Доля выживших среди людей старше 60 лет: 22.727272727272727%\n",
            "Да, люди моложе 30 лет выживали чаще, чем люди старше 60 лет.\n"
          ]
        }
      ],
      "source": [
        "# Фильтруем данные по возрастным группам\n",
        "young_group = passengers[passengers['Age'] < 30]\n",
        "old_group = passengers[passengers['Age'] > 60]\n",
        "\n",
        "# Вычисляем долю выживших в каждой группе\n",
        "young_survival_rate = young_group['Survived'].mean() * 100\n",
        "old_survival_rate = old_group['Survived'].mean() * 100\n",
        "\n",
        "print(f\"Доля выживших среди людей младше 30 лет: {young_survival_rate}%\")\n",
        "print(f\"Доля выживших среди людей старше 60 лет: {old_survival_rate}%\")\n",
        "\n",
        "# Сравниваем доли выживших\n",
        "if young_survival_rate > old_survival_rate:\n",
        "    print(\"Да, люди моложе 30 лет выживали чаще, чем люди старше 60 лет.\")\n",
        "else:\n",
        "    print(\"Нет, люди моложе 30 лет не выживали чаще, чем люди старше 60 лет.\")"
      ]
    },
    {
      "cell_type": "markdown",
      "metadata": {
        "id": "HSaZSiWlgobV"
      },
      "source": [
        "7. Правда ли, что женщины выживали чаще мужчин? Каковы доли выживших в обеих группах?"
      ]
    },
    {
      "cell_type": "code",
      "execution_count": 23,
      "metadata": {
        "id": "w50VuGb9gobV",
        "outputId": "728d428a-4c18-4fd4-c8bb-dc51721f7918",
        "colab": {
          "base_uri": "https://localhost:8080/"
        }
      },
      "outputs": [
        {
          "output_type": "stream",
          "name": "stdout",
          "text": [
            "Доля выживших среди женщин: 74.20382165605095%\n",
            "Доля выживших среди мужчин: 18.890814558058924%\n",
            "Да, женщины выживали чаще, чем мужчины.\n"
          ]
        }
      ],
      "source": [
        "# Группируем данные по полу и вычисляем долю выживших\n",
        "survival_by_sex = passengers.groupby('Sex')['Survived'].mean()\n",
        "\n",
        "# Вычисляем долю выживших в процентах с округлением\n",
        "female_survival_rate = survival_by_sex['female'] * 100\n",
        "male_survival_rate = survival_by_sex['male'] * 100\n",
        "\n",
        "print(f\"Доля выживших среди женщин: {female_survival_rate}%\")\n",
        "print(f\"Доля выживших среди мужчин: {male_survival_rate}%\")\n",
        "\n",
        "# Сравниваем доли выживших\n",
        "if female_survival_rate > male_survival_rate:\n",
        "    print(\"Да, женщины выживали чаще, чем мужчины.\")\n",
        "else:\n",
        "    print(\"Нет, женщины не выживали чаще, чем мужчины.\")"
      ]
    },
    {
      "cell_type": "markdown",
      "metadata": {
        "id": "j_R4pgl6gobV"
      },
      "source": [
        "8.  Найдите самое популярное имя среди пассажиров Титаника мужского пола?"
      ]
    },
    {
      "cell_type": "code",
      "execution_count": 22,
      "metadata": {
        "id": "sm507et5gobW",
        "outputId": "5b315f37-5c6e-4c64-ae69-436b7ed73e37",
        "colab": {
          "base_uri": "https://localhost:8080/"
        }
      },
      "outputs": [
        {
          "output_type": "stream",
          "name": "stdout",
          "text": [
            "Name\n",
            "William    35\n",
            "Name: count, dtype: int64\n"
          ]
        }
      ],
      "source": [
        "import re\n",
        "\n",
        "men = passengers[passengers['Sex']=='male']['Name'].dropna()\n",
        "\n",
        "def first_name(full):\n",
        "    # взять часть после запятой, убрать обращение (до точки) и скобки, затем первое слово\n",
        "    s = re.sub(r'$.*?$', '', full.split(',',1)[1])      # часть после фамилии, убрать скобки\n",
        "    s = re.sub(r'^\\s*\\w+\\.\\s*', '', s)                   # убрать Title. (например \"Mr.\")\n",
        "    return s.split()[0]\n",
        "\n",
        "names = men.map(first_name)\n",
        "print(names.value_counts().nlargest(1))"
      ]
    },
    {
      "cell_type": "markdown",
      "metadata": {
        "id": "IqS9hU9zgobW"
      },
      "source": [
        "\n",
        "\n",
        "9. Как отличается средний возраст мужчин / женщин в зависимости от класса обслуживания? Выберите верные утверждения:\n",
        "\n",
        "    В среднем мужчины 1-го класса старше 40 лет\n",
        "    В среднем женщины 1-го класса старше 40 лет\n",
        "    Мужчины всех классов в среднем старше женщин того же класса\n",
        "    В среднем люди в 1 классе старше, чем во 2-ом, а те старше представителей 3-го класса\n",
        "\n"
      ]
    },
    {
      "cell_type": "code",
      "execution_count": 21,
      "metadata": {
        "id": "khgRdQz7gobW",
        "outputId": "941c4ee1-d71d-48c1-b6b4-06975d1762ba",
        "colab": {
          "base_uri": "https://localhost:8080/"
        }
      },
      "outputs": [
        {
          "output_type": "stream",
          "name": "stdout",
          "text": [
            "Средний возраст пассажиров по полу и классу:\n",
            "Sex     Pclass\n",
            "female  1         34.61\n",
            "        2         28.72\n",
            "        3         21.75\n",
            "male    1         41.28\n",
            "        2         30.74\n",
            "        3         26.51\n",
            "Name: Age, dtype: float64\n",
            "\n",
            "Проверка утверждений:\n",
            "1. Мужчины 1-го класса в среднем 41.28 лет - ДА\n",
            "2. Женщины 1-го класса в среднем 34.61 лет - НЕТ\n",
            "3.1 Мужчины 1-го класса (41.28 лет) старше женщин (34.61 лет) - ДА\n",
            "3.2 Мужчины 2-го класса (30.74 лет) старше женщин (28.72 лет) - ДА\n",
            "3.3 Мужчины 3-го класса (26.51 лет) старше женщин (21.75 лет) - ДА\n",
            "4. Средний возраст по классам: 1-й - 38.23 лет, 2-й - 29.88 лет, 3-й - 25.14 лет\n",
            "   Утверждение: ДА\n"
          ]
        }
      ],
      "source": [
        "# Группируем данные по полу и классу, вычисляем средний возраст\n",
        "age_by_sex_class = passengers.groupby(['Sex', 'Pclass'])['Age'].mean().round(2)\n",
        "\n",
        "# Выводим результаты\n",
        "print(\"Средний возраст пассажиров по полу и классу:\")\n",
        "print(age_by_sex_class)\n",
        "\n",
        "# Проверяем утверждения\n",
        "print(\"\\nПроверка утверждений:\")\n",
        "\n",
        "# 1. В среднем мужчины 1-го класса старше 40 лет\n",
        "male_1st_class_age = age_by_sex_class.loc[('male', 1)]\n",
        "print(f\"1. Мужчины 1-го класса в среднем {male_1st_class_age} лет - {'ДА' if male_1st_class_age > 40 else 'НЕТ'}\")\n",
        "\n",
        "# 2. В среднем женщины 1-го класса старше 40 лет\n",
        "female_1st_class_age = age_by_sex_class.loc[('female', 1)]\n",
        "print(f\"2. Женщины 1-го класса в среднем {female_1st_class_age} лет - {'ДА' if female_1st_class_age > 40 else 'НЕТ'}\")\n",
        "\n",
        "# 3. Мужчины всех классов в среднем старше женщин того же класса\n",
        "for pclass in [1, 2, 3]:\n",
        "    male_age = age_by_sex_class.loc[('male', pclass)]\n",
        "    female_age = age_by_sex_class.loc[('female', pclass)]\n",
        "    print(f\"3.{pclass} Мужчины {pclass}-го класса ({male_age} лет) {'старше' if male_age > female_age else 'младше'} женщин ({female_age} лет) - {'ДА' if male_age > female_age else 'НЕТ'}\")\n",
        "\n",
        "# 4. В среднем люди в 1 классе старше, чем во 2-ом, а те старше представителей 3-го класса\n",
        "avg_age_by_class = passengers.groupby('Pclass')['Age'].mean().round(2)\n",
        "print(f\"4. Средний возраст по классам: 1-й - {avg_age_by_class[1]} лет, 2-й - {avg_age_by_class[2]} лет, 3-й - {avg_age_by_class[3]} лет\")\n",
        "print(f\"   Утверждение: {'ДА' if avg_age_by_class[1] > avg_age_by_class[2] > avg_age_by_class[3] else 'НЕТ'}\")"
      ]
    },
    {
      "cell_type": "markdown",
      "metadata": {
        "id": "qtfbTMVpgobW"
      },
      "source": [
        "10. Сравните возраст у спасенных и у погибших пасажиров. Средний возраст погибших выше, верно?"
      ]
    },
    {
      "cell_type": "code",
      "execution_count": 20,
      "metadata": {
        "id": "ZUYhMLXUgobW",
        "outputId": "1f8250d6-1dc1-480a-b194-5c1078a3dc6f",
        "colab": {
          "base_uri": "https://localhost:8080/"
        }
      },
      "outputs": [
        {
          "output_type": "stream",
          "name": "stdout",
          "text": [
            "Средний возраст пассажиров по группам выживаемости:\n",
            "Погибшие: 30.63 лет\n",
            "Выжившие: 28.34 лет\n",
            "\n",
            "Да, средний возраст погибших выше, чем выживших.\n"
          ]
        }
      ],
      "source": [
        "# Группируем данные по выживаемости и вычисляем средний возраст\n",
        "age_by_survival = passengers.groupby('Survived')['Age'].mean().round(2)\n",
        "\n",
        "print(\"Средний возраст пассажиров по группам выживаемости:\")\n",
        "print(f\"Погибшие: {age_by_survival[0]} лет\")\n",
        "print(f\"Выжившие: {age_by_survival[1]} лет\")\n",
        "\n",
        "# Проверяем утверждение\n",
        "if age_by_survival[0] > age_by_survival[1]:\n",
        "    print(\"\\nДа, средний возраст погибших выше, чем выживших.\")\n",
        "else:\n",
        "    print(\"\\nНет, средний возраст погибших не выше, чем выживших.\")"
      ]
    },
    {
      "cell_type": "markdown",
      "metadata": {
        "id": "jXv9XBxIgobW"
      },
      "source": [
        "### Дополнительные вопросы для защиты\n",
        "\n",
        "1. Что такое медиана? Рассчитать медиану для предложенного ряда чисел.\n",
        "2. Что такое дисперсия? Рассчитать дисперсию для предложенного ряда чисел.\n",
        "3. Что такое среднеквадратичное отклонение? Рассчитать среднеквадратичное отклонение для предложенного ряда чисел.\n",
        "4. Что такое Series и чем он отличается от DataFrame\n",
        "5. Можно ли изменить индекс в Series после создания объекта?\n",
        "6. Можно ли выполнить операцию сложения над двумя объектами Series, если они имеют:\n",
        "- одинаковые типы данных, одинаковые размеры и одинаковые индексы?\n",
        "- одинаковые типы данных, одинаковые размеры, но разные индексы?,  \n",
        "- одинаковые типы данных, разные размеры и одинаковые индексы?\n",
        "- разные типы данных, одинаковые размеры и одинаковые индексы?\n",
        "- разные типы данных, одинаковые размеры и разные индексы?\n",
        "- разные типы данных, разные размеры и разные индексы?\n",
        "7. Что такое DataFrame и чем он отличается от Series\n",
        "8. Что необходимо сделать, чтобы число строк в DateFrame при его просмотре, по умолчанию составляло 8?\n",
        "9. Чем отличается метод iloc от метода loс\n",
        "10. Можно ли добавить в DateFrame дополнительный Series?\n",
        "11. Требуются ли установка дополнительных библиотек для загрузки с помощью pandas файлов в формате CSV? Excel (.xls)? Json?"
      ]
    }
  ],
  "metadata": {
    "kernelspec": {
      "display_name": "Python 3",
      "language": "python",
      "name": "python3"
    },
    "language_info": {
      "codemirror_mode": {
        "name": "ipython",
        "version": 3
      },
      "file_extension": ".py",
      "mimetype": "text/x-python",
      "name": "python",
      "nbconvert_exporter": "python",
      "pygments_lexer": "ipython3",
      "version": "3.12.2"
    },
    "colab": {
      "provenance": []
    }
  },
  "nbformat": 4,
  "nbformat_minor": 0
}