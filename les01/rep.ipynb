{
  "nbformat": 4,
  "nbformat_minor": 0,
  "metadata": {
    "colab": {
      "provenance": [],
      "authorship_tag": "ABX9TyOrEOvHhDq2RWwvdhvjocrF"
    },
    "kernelspec": {
      "name": "python3",
      "display_name": "Python 3"
    },
    "language_info": {
      "name": "python"
    }
  },
  "cells": [
    {
      "cell_type": "markdown",
      "source": [
        "#**Лабораторная работа №1. Подготовка среды для анализа данных**\n",
        "\n",
        "##**Отчет по заданиям**\n",
        "\n",
        "1. Создали учетную запись в сервисе GitHub\n",
        "2. Выполнили форк репозитория https://github.com/chebotarevsa/dap-2024\n",
        "3. Создали учетную запись в Google Colab\n",
        "4. Настроили интеграцию Google Colab и GitHub\n",
        "5. Создали в Google Colab отчет о выполненой работе в виде файла rep.ipynb. Использовали Markdown разметку (заголовки, списки, форматированный текст, ссылки)\n",
        "6. Сохранили отчет в свой репозиторий github в директории ./les01\n",
        "7. Создали pull request в репозиторий https://github.com/chebotarevsa/dap-2024. Название pull request имеет формат \"<Лабораторная работа №1> <12002308> <Сирота Вероника Геннадьевна>\"\n",
        "8. Сдали работу в системе \"Пегас\", в отчете указали ссылку на pull request"
      ],
      "metadata": {
        "id": "IC_Ya4WpT6Y7"
      }
    }
  ]
}